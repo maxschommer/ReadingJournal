{
 "cells": [
  {
   "cell_type": "markdown",
   "metadata": {},
   "source": [
    "# Day 5 Reading Journal\n",
    "\n",
    "This journal includes several required exercises, but it is meant to encourage active reading more generally.  You should use the journal to take detailed notes, catalog questions, and explore the content from Think Python deeply.\n",
    "\n",
    "Reading: Think Python Chapter 4\n",
    "\n",
    "**Due: Monday, February 8 at 12 noon**\n",
    "\n"
   ]
  },
  {
   "cell_type": "markdown",
   "metadata": {},
   "source": [
    "## [Chapter 4](http://www.greenteapress.com/thinkpython/html/thinkpython005.html)\n",
    "\n",
    "In today's reading, you'll be exploring TurtleWorld!\n",
    "TurtleWorld is part of the [swampy](http://www.greenteapress.com/thinkpython/swampy/) package, written by Allen Downey.\n",
    "As part of the [Get Set](https://sites.google.com/site/sd16spring/home/assignments-and-mini-projects/setup-your-environment) assignment, you installed the swampy package using the pip Python package management tool. If you somehow missed that step or you see errors when you try to import TurtleWorld, you can install swampy by running:\n",
    "\n",
    "```\n",
    "sudo pip install swampy\n",
    "```\n",
    "\n",
    "at the command line.\n",
    "\n",
    "### Turtle wrangling\n",
    "\n",
    "You can always run your code as separate Python scripts, but here are a few tips for mixing TurtleWorld with Jupyter notebook:\n",
    "\n",
    " - TurtleWorld will appear in a new GUI window, rather than inline in the notebook like typical results do\n",
    " - You will not be able to close the TurtleWorld window unless you run `wait_for_user()` as the last line of your code.\n",
    " - Jupyter notebook works like one big Python script, even though it is broken up into sections. This means that you could create a Turtle in one cell, move it in a later cell, and then `wait_for_user()` in yet another. Despite this, it might be easier to treat each cell in this assignment as a separate script, creating a new world at the beginning and destroying it at the end of each."
   ]
  },
  {
   "cell_type": "markdown",
   "metadata": {},
   "source": [
    "### Get started\n",
    "\n",
    "Run the code in the cell below and make sure everything works. You should see brave Alice spring into the world and run forward. You can close the window when you're done by clicking on the 'X'. If this simple test doesn't work, check your swampy install (especially if you get an `ImportError`) and ask for help."
   ]
  },
  {
   "cell_type": "code",
   "execution_count": 1,
   "metadata": {
    "collapsed": true
   },
   "outputs": [],
   "source": [
    "from swampy.TurtleWorld import *\n",
    "\n",
    "# Create the world, and a turtle to put in it\n",
    "world = TurtleWorld()\n",
    "alice = Turtle()\n",
    "\n",
    "# Get moving, turtle!\n",
    "fd(alice, 50)\n",
    "\n",
    "# Wait for the user to close the window\n",
    "wait_for_user()"
   ]
  },
  {
   "cell_type": "markdown",
   "metadata": {
    "is_question": true,
    "problem": "Section 4.3"
   },
   "source": [
    "### Section 4.3 exercises\n",
    "Work through exercises 1-5 in Section 4.3, creating the `square`, `polygon`, `circle`, and `arc` functions. You can reference Allen's solutions, but please try the problems on your own first."
   ]
  },
  {
   "cell_type": "code",
   "execution_count": 40,
   "metadata": {
    "collapsed": false,
    "solution": "Section 4.3"
   },
   "outputs": [],
   "source": [
    "from swampy.TurtleWorld import *\n",
    "import math\n",
    "\n",
    "# Create the world, and a turtle to put in it\n",
    "world = TurtleWorld()\n",
    "bob = Turtle()\n",
    "bob.delay = .001\n",
    "def square(turtle, length):\n",
    "    for i in range(4):\n",
    "\n",
    "        fd(turtle,length)\n",
    "        lt(turtle)\n",
    "\n",
    "\n",
    "    wait_for_user() \n",
    "#square(bob, 180)\n",
    "\n",
    "def coolstar(turtle, length,angle):\n",
    "    for i in range(30):\n",
    "\n",
    "        fd(turtle,length)\n",
    "        lt(turtle , angle)\n",
    "\n",
    "\n",
    "    wait_for_user() \n",
    "#square(bob, 180)\n",
    "def poly(turtle, length, sides):\n",
    "    angle = 180.0-((sides-2)*180.0)/sides\n",
    "    for i in range(sides):\n",
    "        fd(turtle,length)\n",
    "        lt(turtle, angle)\n",
    "\n",
    "\n",
    "    wait_for_user() \n",
    "\n",
    "def circle(turtle, radius, arcangle):\n",
    "    circumferance = 2.0*math.pi*radius\n",
    "    \n",
    "    steplength = circumferance / 360.0\n",
    "    angle = 180.0-((360-2)*180.0)/360\n",
    "    for i in range(arcangle):\n",
    "        fd(turtle,steplength)\n",
    "        lt(turtle, angle)\n",
    "\n",
    "\n",
    "    wait_for_user()     \n",
    "    \n",
    "\n",
    "coolstar(bob, 80, 100)"
   ]
  },
  {
   "cell_type": "markdown",
   "metadata": {
    "is_question": true,
    "problem": "More fun"
   },
   "source": [
    "### Exercise: More fun with Turtles!\n",
    "Complete at least one of Exercise 2, 3, 4, or 5. If you come up with some cool drawings you'd like to share with the rest of the class, let us know!"
   ]
  },
  {
   "cell_type": "code",
   "execution_count": 68,
   "metadata": {
    "collapsed": false,
    "scrolled": true,
    "solution": "More fun"
   },
   "outputs": [],
   "source": [
    "from swampy.TurtleWorld import *\n",
    "import math\n",
    "\n",
    "# Create the world, and a turtle to put in it\n",
    "world = TurtleWorld()\n",
    "bob = Turtle()\n",
    "bob.delay = .001\n",
    "\n",
    "\n",
    "def turtlegrapher():\n",
    "    step = 1\n",
    "    start = -300\n",
    "    stop = 302\n",
    "    point = function(start)\n",
    "    pu(bob)\n",
    "    gotopoint(point)\n",
    "    pd(bob)\n",
    "    for x in range(start,stop,step): \n",
    "        point = function(x)\n",
    "        gotopoint(point)\n",
    "    wait_for_user()\n",
    "def function(xf):\n",
    "    ymult = 50.0\n",
    "    xmult = (1.0/(10.0*math.pi))\n",
    "    x = xmult*xf\n",
    "    yinit = ymult*(0.0 + math.sin(x*5.0)+math.cos(x))\n",
    "    return xf, yinit\n",
    "def pointeast(bob):\n",
    "    angle = Turtle.get_heading(bob)\n",
    "    rt(bob, angle)\n",
    "def gotopoint(point):\n",
    "    pointeast(bob)\n",
    "    xcurrent = Turtle.get_x(bob)\n",
    "    ycurrent = Turtle.get_y(bob)\n",
    "    xnew = point[0]\n",
    "    ynew = point[1]\n",
    "    dy = 0.0+(ynew-ycurrent)\n",
    "    dx = 0.0+(xnew-xcurrent)\n",
    "    angle = 180.0*math.atan2(dy, dx)/math.pi\n",
    "    dist = math.sqrt(dy**2+dx**2)\n",
    "    lt(bob, angle)\n",
    "    fd(bob, dist)\n",
    "turtlegrapher()\n"
   ]
  },
  {
   "cell_type": "code",
   "execution_count": 65,
   "metadata": {
    "collapsed": false
   },
   "outputs": [
    {
     "name": "stdout",
     "output_type": "stream",
     "text": [
      "100.0\n"
     ]
    }
   ],
   "source": [
    "x = -10\n",
    "print .0 + x**2"
   ]
  },
  {
   "cell_type": "markdown",
   "metadata": {},
   "source": [
    "## Reading Journal feedback\n",
    "\n",
    "Have any comments on this Reading Journal? Feel free to leave them below and we'll read them when you submit your journal entry. This could include suggestions to improve the exercises, topics you'd like to see covered in class next time, or other feedback.\n",
    "\n",
    "If you have Python questions or run into problems while completing the reading, you should post them to Piazza instead so you can get a quick response before your journal is submitted."
   ]
  },
  {
   "cell_type": "markdown",
   "metadata": {},
   "source": [
    " "
   ]
  }
 ],
 "metadata": {
  "kernelspec": {
   "display_name": "Python 2",
   "language": "python",
   "name": "python2"
  },
  "language_info": {
   "codemirror_mode": {
    "name": "ipython",
    "version": 2
   },
   "file_extension": ".py",
   "mimetype": "text/x-python",
   "name": "python",
   "nbconvert_exporter": "python",
   "pygments_lexer": "ipython2",
   "version": "2.7.6"
  }
 },
 "nbformat": 4,
 "nbformat_minor": 0
}
