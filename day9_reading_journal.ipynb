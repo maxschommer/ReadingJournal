{
 "cells": [
  {
   "cell_type": "markdown",
   "metadata": {},
   "source": [
    "# Day 9 Reading Journal\n",
    "\n",
    "This journal includes several required exercises, but it is meant to encourage active reading more generally.  You should use the journal to take detailed notes, catalog questions, and explore the content from Think Python deeply.\n",
    "\n",
    "Reading: Think Python Chapter 13, 15\n",
    "\n",
    "**Due: Monday, February 22 at 12 noon**\n",
    "\n"
   ]
  },
  {
   "cell_type": "markdown",
   "metadata": {},
   "source": [
    "## [Chapter 13](http://www.greenteapress.com/thinkpython/html/thinkpython014.html)\n",
    "\n",
    "The content in this chapter could be very helpful for the text mining mini project. The reading and all exercises within are optional.\n",
    "\n",
    " - Section 13.3-4 gives a good example of some techniques for working with files, processing text, and doing some simple analysis. \n",
    " - Section 13.8 and the Markov generation in Exercise 8 can be a lot of fun. \n",
    " - Now that you know a wide range of different data structures, Section 13.9 starts to give some guidance for choosing between them\n",
    " - Section 13.10 explains Allen's \"4 r's\" of debugging strategy"
   ]
  },
  {
   "cell_type": "markdown",
   "metadata": {},
   "source": [
    "## [Chapter 15](http://www.greenteapress.com/thinkpython/html/thinkpython016.html)\n",
    "\n",
    "This chapter has very few (and short) exercises, and is more focused on starting to think about classes and objects. If you haven't seen user defined types like classes before, you should read closely and try out some examples on your own. For example, you can write a [Python Tutor example like this one](http://pythontutor.com/visualize.html#code=%23+Example+for+visualizing+object+diagrams+by+stepping+through+the+code%0A%0Aclass+Point(object%29%3A%0A++++%22%22%22Represents+a+point+in+2-D+space.%22%22%22%0A++++pass%0A%0Aclass+Rectangle(object%29%3A%0A++++%22%22%22Represents+a+rectangle.+%0A%0A++++attributes%3A+width,+height,+corner.%0A++++%22%22%22%0A++++pass%0A%0A%0A%23+Create+a+point+to+serve+as+origin+for+our+rectangles%0Ap+%3D+Point(%29%0Ap.x+%3D+10%0Ap.y+%3D+15%0A%0A%23+Create+two+rectangles+with+different+size%0Ar1+%3D+Rectangle(%29%0Ar1.corner+%3D+p%0Ar1.width+%3D+100%0Ar1.height+%3D+100%0A%0Ar2+%3D+Rectangle(%29%0Ar2.corner+%3D+p%0Ar2.width+%3D+50%0Ar2.height+%3D+200%0A%0A%23+Change+the+width+of+r2+-+what+(if+any%29+is+the+effect+on+r1+and+why%3F%0Ar2.width+%3D+150%0Aprint+r1.width%0A%0A%23+Change+the+corner+position+of+r1+-+what+(if+any%29+is+the+effect+on+r2+and+why%3F%0Ar1.corner.x+%3D+20%0Aprint+r2.corner.x&mode=display&origin=opt-frontend.js&cumulative=false&heapPrimitives=false&textReferences=false&py=2&rawInputLstJSON=%5B%5D&curInstr=0) to explore object diagrams and aliasing.\n",
    "\n",
    "**Note**: The sequence of operations we use in this chapter to create class instances and assign their attributes, e.g. \n",
    "\n",
    "```\n",
    "box = Rectangle()\n",
    "box.width = 100.0\n",
    "box.height = 200.0\n",
    "box.corner = Point()\n",
    "box.corner.x = 0.0\n",
    "box.corner.y = 0.0\n",
    "```\n",
    "\n",
    "is somewhat clumsy and error prone. Things will get better in the next couple chapters; feel free to look ahead if you'd like a sneak preview.\n"
   ]
  },
  {
   "cell_type": "markdown",
   "metadata": {},
   "source": [
    "**Quick check:** In about one sentence using your own words, what is a class?"
   ]
  },
  {
   "cell_type": "markdown",
   "metadata": {},
   "source": [
    "A class is a variable type defined by the user. "
   ]
  },
  {
   "cell_type": "markdown",
   "metadata": {
    "is_question": true,
    "problem": "Exercise 15.1"
   },
   "source": [
    "### Exercise 1  \n",
    "\n",
    "Write a function called `distance_between_points` that takes two `Points` as arguments and returns the distance between them."
   ]
  },
  {
   "cell_type": "code",
   "execution_count": 5,
   "metadata": {
    "collapsed": false,
    "solution": "Exercise 15.1"
   },
   "outputs": [
    {
     "data": {
      "text/plain": [
       "5.0"
      ]
     },
     "execution_count": 5,
     "metadata": {},
     "output_type": "execute_result"
    }
   ],
   "source": [
    "import math\n",
    "class Point(object):\n",
    "    \"\"\"Represents a point in 2d space\"\"\"\n",
    "p1 = Point()\n",
    "p2 = Point()\n",
    "p1.x = 3\n",
    "p1.y = 4\n",
    "p2.x = 0\n",
    "p2.y = 0\n",
    "\n",
    "def distance_between_points(point1, point2):\n",
    "    \"\"\"Returns the distance between two points\"\"\"\n",
    "    dist = math.sqrt((point1.x-point2.x)**2+(point1.y-point2.y)**2)\n",
    "    return dist\n",
    "distance_between_points(p1, p2)\n",
    "    "
   ]
  },
  {
   "cell_type": "markdown",
   "metadata": {
    "is_question": true,
    "problem": "Exercise 15.2"
   },
   "source": [
    "### Exercise 2  \n",
    "\n",
    "Write a function named `move_rectangle` that takes a `Rectangle` and two numbers named `dx` and `dy`. It should change the location of the rectangle by adding `dx` to the `x` coordinate of `corner` and adding `dy` to the `y` coordinate of `corner`."
   ]
  },
  {
   "cell_type": "code",
   "execution_count": 18,
   "metadata": {
    "collapsed": false,
    "solution": "Exercise 15.2"
   },
   "outputs": [
    {
     "name": "stdout",
     "output_type": "stream",
     "text": [
      "3 4 7 9\n",
      "6 8 10 13\n"
     ]
    }
   ],
   "source": [
    "import math\n",
    "class corner(object):\n",
    "    \"\"\"Represents a point in 2d space\"\"\"\n",
    "dxdy1 = corner()\n",
    "# p2 = Point()\n",
    "dxdy1.x = 3\n",
    "dxdy1.y = 4\n",
    "# p2.x = 0\n",
    "# p2.y = 0\n",
    "class Rectangle(object):\n",
    "    \"\"\"Defines a rectangle using two points.\"\"\"\n",
    "rect = Rectangle()\n",
    "rect.x1 = 3\n",
    "rect.y1 = 4\n",
    "rect.x2 = 7\n",
    "rect.y2 = 9\n",
    "print rect.x1, rect.y1, rect.x2, rect.y2\n",
    "def move_rectangle(dxdy, rectangle):\n",
    "    \"\"\"Moves a rectangle by dydx defined by a point\"\"\"\n",
    "    rectangle.x1 = rectangle.x1 + dxdy.x\n",
    "    rectangle.y1 = rectangle.y1 + dxdy.y\n",
    "    rectangle.x2 = rectangle.x2 + dxdy.x\n",
    "    rectangle.y2 = rectangle.y2 + dxdy.y\n",
    "move_rectangle(dxdy1, rect)\n",
    "print rect.x1, rect.y1, rect.x2, rect.y2\n",
    "    "
   ]
  },
  {
   "cell_type": "markdown",
   "metadata": {
    "is_question": true,
    "problem": "Exercise 15.3"
   },
   "source": [
    "### Exercise 3  \n",
    "\n",
    "Write a version of `move_rectangle` that creates and returns a new `Rectangle` instead of modifying the old one."
   ]
  },
  {
   "cell_type": "code",
   "execution_count": 7,
   "metadata": {
    "collapsed": false,
    "solution": "Exercise 15.3"
   },
   "outputs": [
    {
     "name": "stdout",
     "output_type": "stream",
     "text": [
      "3 4 7 9\n",
      "6 8 10 13\n"
     ]
    }
   ],
   "source": [
    "import math\n",
    "class corner(object):\n",
    "    \"\"\"Represents a point in 2d space\"\"\"\n",
    "dxdy1 = corner()\n",
    "# p2 = Point()\n",
    "dxdy1.x = 3\n",
    "dxdy1.y = 4\n",
    "# p2.x = 0\n",
    "# p2.y = 0\n",
    "class Rectangle(object):\n",
    "    \"\"\"Defines a rectangle using two points.\"\"\"\n",
    "rect = Rectangle()\n",
    "rect.x1 = 3\n",
    "rect.y1 = 4\n",
    "rect.x2 = 7\n",
    "rect.y2 = 9\n",
    "print rect.x1, rect.y1, rect.x2, rect.y2\n",
    "def move_rectangle(dxdy, myrectangle):\n",
    "    \"\"\"Moves a rectangle by dydx defined by a point\"\"\"\n",
    "    rectangle = Rectangle()\n",
    "    rectangle.x1 = rect.x1 + dxdy.x\n",
    "    rectangle.y1 = rect.y1 + dxdy.y\n",
    "    rectangle.x2 = rect.x2 + dxdy.x\n",
    "    rectangle.y2 = rect.y2 + dxdy.y\n",
    "    return rectangle\n",
    "rectangle = move_rectangle(dxdy1, rect)\n",
    "print rectangle.x1, rectangle.y1, rectangle.x2, rectangle.y2\n",
    "    "
   ]
  },
  {
   "cell_type": "markdown",
   "metadata": {
    "is_question": true,
    "problem": "Time spent"
   },
   "source": [
    "## Quick poll\n",
    "About how long did you spend working on this Reading Journal?"
   ]
  },
  {
   "cell_type": "markdown",
   "metadata": {
    "poll_response": true,
    "solution": "Time spent"
   },
   "source": [
    "45 Min "
   ]
  },
  {
   "cell_type": "markdown",
   "metadata": {
    "is_question": true,
    "problem": "Feedback"
   },
   "source": [
    "## Reading Journal feedback\n",
    "\n",
    "Have any comments on this Reading Journal? Feel free to leave them below and we'll read them when you submit your journal entry. This could include suggestions to improve the exercises, topics you'd like to see covered in class next time, or other feedback.\n",
    "\n",
    "If you have Python questions or run into problems while completing the reading, you should post them to Piazza instead so you can get a quick response before your journal is submitted."
   ]
  },
  {
   "cell_type": "markdown",
   "metadata": {
    "feedback_response": true,
    "solution": "Feedback"
   },
   "source": [
    "I think that the journals are very helpful. I think I am many times more efficient at learning when in the presence of a ninja.  "
   ]
  }
 ],
 "metadata": {
  "celltoolbar": "Edit Metadata",
  "kernelspec": {
   "display_name": "Python 2",
   "language": "python",
   "name": "python2"
  },
  "language_info": {
   "codemirror_mode": {
    "name": "ipython",
    "version": 2
   },
   "file_extension": ".py",
   "mimetype": "text/x-python",
   "name": "python",
   "nbconvert_exporter": "python",
   "pygments_lexer": "ipython2",
   "version": "2.7.6"
  }
 },
 "nbformat": 4,
 "nbformat_minor": 0
}
