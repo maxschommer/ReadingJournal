{
 "cells": [
  {
   "cell_type": "markdown",
   "metadata": {},
   "source": [
    "# Day 7 Reading Journal\n",
    "\n",
    "This journal includes several required exercises, but it is meant to encourage active reading more generally.  You should use the journal to take detailed notes, catalog questions, and explore the content from Think Python deeply.\n",
    "\n",
    "Reading: Think Python Chapter 11, 12\n",
    "\n",
    "**Due: Thursday, February 18 at 12 noon**\n",
    "\n"
   ]
  },
  {
   "cell_type": "markdown",
   "metadata": {},
   "source": [
    "## [Chapter 11](http://www.greenteapress.com/thinkpython/html/thinkpython012.html)\n"
   ]
  },
  {
   "cell_type": "markdown",
   "metadata": {},
   "source": [
    "**Quick check:** In about one sentence using your own words, what is a dictionary?"
   ]
  },
  {
   "cell_type": "markdown",
   "metadata": {},
   "source": [
    "A dictionary is a mapping from inputs to outputs."
   ]
  },
  {
   "cell_type": "markdown",
   "metadata": {},
   "source": [
    " "
   ]
  },
  {
   "cell_type": "markdown",
   "metadata": {
    "is_question": true,
    "problem": "Exercise 11.2"
   },
   "source": [
    "### Exercise 2  \n",
    "\n",
    "Dictionaries have a [method called `get`](https://docs.python.org/2/library/stdtypes.html#mapping-types-dict) that takes a key and a default value. If the key appears in the dictionary, `get` returns the corresponding value; otherwise it returns the default value. For example:\n",
    "\n",
    "```\n",
    ">>> h = histogram('a')\n",
    ">>> print h\n",
    "{'a': 1}\n",
    ">>> h.get('a', 0)\n",
    "1\n",
    ">>> h.get('b', 0)\n",
    "0\n",
    "```\n",
    "\n",
    "Use `get` to write `histogram` more concisely. You should be able to eliminate the `if` statement. Add unit tests for your histogram implementation."
   ]
  },
  {
   "cell_type": "code",
   "execution_count": 9,
   "metadata": {
    "collapsed": false,
    "solution": "Exercise 11.2"
   },
   "outputs": [
    {
     "name": "stdout",
     "output_type": "stream",
     "text": [
      "{'a': 1, 'e': 3, 'i': 1, 'h': 1, 'l': 1, 'n': 2, 'p': 1, 't': 1}\n",
      "{'a': 2, 'c': 2, 'l': 4, 'o': 2, 's': 1, 't': 2, 'z': 1}\n"
     ]
    }
   ],
   "source": [
    "def histogram(s):\n",
    "    d = dict()\n",
    "    for c in s:\n",
    "        d[c] = d.get(c,0) + 1\n",
    "    return d\n",
    "print histogram(\"elephantine\")\n",
    "print histogram(\"lolcatzlolcats\")"
   ]
  },
  {
   "cell_type": "markdown",
   "metadata": {
    "is_question": true,
    "problem": "Exercise 11.4"
   },
   "source": [
    "### Exercise 4  \n",
    "\n",
    "Modify `reverse_lookup` so that it builds and returns a list of all keys that map to `v`, or an empty list if there are none. Add unit tests for your implementation."
   ]
  },
  {
   "cell_type": "code",
   "execution_count": 17,
   "metadata": {
    "collapsed": false,
    "solution": "Exercise 11.4"
   },
   "outputs": [
    {
     "name": "stdout",
     "output_type": "stream",
     "text": [
      "['l']\n",
      "['a', 'i', 'l', 'n', 'w']\n"
     ]
    }
   ],
   "source": [
    "def reverse_lookup(d, v):\n",
    "    mylist = []\n",
    "    for k in d:\n",
    "        if d[k] == v:\n",
    "            mylist.append(k)\n",
    "    return mylist\n",
    "h = histogram(\"lolcatzlolcats\")\n",
    "print reverse_lookup(h, 4)\n",
    "h = histogram(\"wutisalolcatidontknow\")\n",
    "print reverse_lookup(h, 2)"
   ]
  },
  {
   "cell_type": "markdown",
   "metadata": {},
   "source": [
    "If you'd like to learn more about errors and exceptions, you can check out the [Python tutorial](https://docs.python.org/2/tutorial/errors.html) or read ahead to [Appendix A](http://www.greenteapress.com/thinkpython/html/thinkpython021.html) of Think Python. If you choose to use doctest for your unit testing, it can also [deal with exceptions](https://docs.python.org/2/library/doctest.html#what-about-exceptions)."
   ]
  },
  {
   "cell_type": "markdown",
   "metadata": {},
   "source": [
    "**Quick check** What type of objects can be used as keys to a dictionary, i.e. what property must they have?"
   ]
  },
  {
   "cell_type": "markdown",
   "metadata": {},
   "source": [
    "Any immutable object. "
   ]
  },
  {
   "cell_type": "markdown",
   "metadata": {
    "is_question": true,
    "problem": "Exercise 11.6"
   },
   "source": [
    "### Exercise 6 (modified)\n",
    "\n",
    "Create a memoized version of your Levenshtein distance function from Day 7. What kind of performance change do you see?\n",
    "\n",
    "Optional: If you'd like to get some quantitative results, you could check out the [timeit](https://docs.python.org/2/library/timeit.html) module\n",
    "\n",
    "Note: You can also study Fibonacci here if you prefer."
   ]
  },
  {
   "cell_type": "code",
   "execution_count": 22,
   "metadata": {
    "collapsed": false,
    "solution": "Exercise 11.6"
   },
   "outputs": [
    {
     "name": "stdout",
     "output_type": "stream",
     "text": [
      "35\n"
     ]
    }
   ],
   "source": [
    "\"\"\" An implementation of Levenshtein distance using recursion \"\"\"\n",
    "\n",
    "known = dict()\n",
    "def lev(a, b):\n",
    "    \"\"\" Returns the Levenshtein distance between strings a and b\n",
    "\n",
    "        >>> lev(\"apple\", \"opple\")\n",
    "        1\n",
    "        >>> lev(\"kitten\", \"smitten\")\n",
    "        2\n",
    "        >>> lev(\"apple\",\"\")\n",
    "        5\n",
    "        >>> lev(\"\", \"banana\")\n",
    "        6\n",
    "        >>> lev(\"\", \"\")\n",
    "        0\n",
    "        >>> lev(\"speak\", \"peak\")\n",
    "        1\n",
    "        >>> lev(\"pple\", \"aardvark\")\n",
    "        8\n",
    "        >>> lev(\"software\", \"software\")\n",
    "        0\n",
    "\n",
    "    \"\"\"\n",
    "\n",
    "\n",
    "    # Base cases: one of the strings is empty\n",
    "    if a == \"\":\n",
    "        return len(b)\n",
    "    if b == \"\":\n",
    "        return len(a)\n",
    "    \n",
    "    if (a,b) in known:\n",
    "        return known[(a,b)]\n",
    "    # Strategy 1: Change the first character to match\n",
    "    if a[0] == b[0]:\n",
    "        # First character already matches, no extra distance\n",
    "       \n",
    "        option1 = lev(a[1:], b[1:])\n",
    "        \n",
    "    else:\n",
    "        # First character is different, distance of 1 to change it\n",
    "        option1 = 1 + lev(a[1:], b[1:])\n",
    "\n",
    "    # Strategy 2: Insert b[0] as the first character of a\n",
    "    option2 = 1 + lev(a, b[1:])\n",
    "\n",
    "    # Strategy 3: Delete the first character of a\n",
    "    option3 = 1 + lev(a[1:], b)\n",
    "    mymin = min(option1, option2, option3)\n",
    "    known[(a,b)] = mymin\n",
    "    return mymin\n",
    "\n",
    "\n",
    "# Run only when runned from the command line, not when imported\n",
    "if __name__ == \"__main__\":\n",
    "    import doctest\n",
    "    doctest.testmod(verbose=False)\n",
    "print lev(\"asldfpaodiuaslkdfjlakjcxzvppoiupaoisdflkashd\", \"alsdkjfhaoiduyqkjnmbvczlaksjdhfqpieurlasjkdfh\")"
   ]
  },
  {
   "cell_type": "markdown",
   "metadata": {},
   "source": [
    "## [Chapter 12](http://www.greenteapress.com/thinkpython/html/thinkpython013.html)\n",
    "\n",
    "**Quick check:** In about one sentence using your own words, what is a tuple?"
   ]
  },
  {
   "cell_type": "markdown",
   "metadata": {},
   "source": [
    " It is immutable list. "
   ]
  },
  {
   "cell_type": "markdown",
   "metadata": {
    "is_question": true,
    "problem": "Exercise 12.1"
   },
   "source": [
    "### Exercise 1  \n",
    "\n",
    "Many of the built-in functions use variable-length argument tuples. For example, `max` and `min` can take any number of arguments:\n",
    "\n",
    "```\n",
    ">>> max(1,2,3)\n",
    "3\n",
    "```\n",
    "\n",
    "But `sum` does not.\n",
    "\n",
    "```\n",
    ">>> sum(1,2,3)\n",
    "TypeError: sum expected at most 2 arguments, got 3\n",
    "```\n",
    "\n",
    "Write a function called ```sumall``` that takes any number of arguments and returns their sum. \n",
    "\n",
    "Write unit tests for your function. Do I actually need to keep saying this? Let's assume it's always a good idea :)"
   ]
  },
  {
   "cell_type": "code",
   "execution_count": 25,
   "metadata": {
    "collapsed": false,
    "solution": "Exercise 12.1"
   },
   "outputs": [
    {
     "name": "stdout",
     "output_type": "stream",
     "text": [
      "15\n",
      "17\n",
      "14\n"
     ]
    }
   ],
   "source": [
    "def sumall(t):\n",
    "    mysum = 0\n",
    "    for i in range(len(t)):\n",
    "        mysum = mysum + t[i]\n",
    "    return mysum\n",
    "mynums = 1,2,3,4,5\n",
    "print sumall(mynums)\n",
    "mynums = 2,3,5,7\n",
    "print sumall(mynums)\n",
    "mynums = 5,10,-5,4\n",
    "print sumall(mynums)"
   ]
  },
  {
   "cell_type": "markdown",
   "metadata": {},
   "source": [
    "If you're interested in more flexible ways to pass arguments to functions, check out the [Python tutorial](https://docs.python.org/2/tutorial/controlflow.html#more-on-defining-functions). For instance, you can also use keyword arguments, which are collected into a dictionary just like `*` gathers variable numbers of positional arguments into a tuple.\n",
    "\n",
    "This pattern is very common for defining functions with complex optional behaviors in Python, and you will often see definitions like:\n",
    "\n",
    "```\n",
    "def my_func(required_argument1, *arguments, **keywords):\n",
    "    ...\n",
    "```"
   ]
  },
  {
   "cell_type": "markdown",
   "metadata": {
    "is_question": true,
    "problem": "Exercise 12 sort"
   },
   "source": [
    "### Exercise\n",
    "\n",
    "Write a function `sort_by_last_letter` that takes a list of words and returns a new list with the words sorted alphabetically by the _last letter_ in the word. Hint: use the **Decorate, Sort, Undecorate** pattern. Write unit tests for your function."
   ]
  },
  {
   "cell_type": "code",
   "execution_count": 34,
   "metadata": {
    "collapsed": false,
    "solution": "Exercise 12 sort"
   },
   "outputs": [
    {
     "name": "stdout",
     "output_type": "stream",
     "text": [
      "['oh', 'hello', 'wut', 'why']\n",
      "['wua', 'whb', 'hellc', 'ox']\n"
     ]
    }
   ],
   "source": [
    "def sort_by_last_letter(mylist):\n",
    "    newlist = []\n",
    "    finallist = []\n",
    "    for i in range(len(mylist)):\n",
    "        newlist.append(mylist[i][::-1])\n",
    "    newlist = sorted(newlist)\n",
    "    for i in range(len(newlist)):\n",
    "        finallist.append(newlist[i][::-1])\n",
    "    return finallist\n",
    "print sort_by_last_letter([\"hello\", \"why\", \"wut\", \"oh\"])\n",
    "print sort_by_last_letter([\"hellc\", \"whb\", \"wua\", \"ox\"])  \n",
    "    "
   ]
  },
  {
   "cell_type": "markdown",
   "metadata": {},
   "source": [
    "**Quick check** Give an example of when you might use each sequence type:\n",
    "\n",
    "- tuple\n",
    "\n",
    "- list\n",
    "\n",
    "- string"
   ]
  },
  {
   "cell_type": "markdown",
   "metadata": {},
   "source": [
    "A tuple would be used when you need multiple keys for your dictionary.\n",
    "A list could be used when you want something that contains all kinds of data types with an index.\n",
    "A string is used to hold letters."
   ]
  },
  {
   "cell_type": "markdown",
   "metadata": {
    "is_question": true,
    "problem": "Exercise 12.3"
   },
   "source": [
    "### Exercise 3  \n",
    "\n",
    "Write a function called `most_frequent` that takes a string and prints the letters in decreasing order of frequency. Find text samples from several different languages and see how letter frequency varies between languages. Compare your results with the tables at http://en.wikipedia.org/wiki/Letter_frequencies. \n",
    "\n",
    "Allen's solution (try it on your own first): http://thinkpython.com/code/most_frequent.py. "
   ]
  },
  {
   "cell_type": "code",
   "execution_count": 70,
   "metadata": {
    "collapsed": false,
    "solution": "Exercise 12.3"
   },
   "outputs": [
    {
     "name": "stdout",
     "output_type": "stream",
     "text": [
      "loztca\n",
      "iumczyvrsolha\n",
      "etsnoidaulyhwrpc.mkfgbx\n"
     ]
    }
   ],
   "source": [
    "def histogram(s):\n",
    "    d = dict()\n",
    "    for c in s:\n",
    "        d[c] = d.get(c,0) + 1\n",
    "    return d\n",
    "def most_frequent(string):\n",
    "\n",
    "    string = string.replace(\" \", \"\")\n",
    "    string = string.lower()\n",
    "    frequencies = histogram(string)\n",
    "    mylist = frequencies.items()\n",
    "    newlist = sorted(mylist, key=lambda x: x[1])\n",
    "    newlist = newlist[::-1]\n",
    "    finallist = []\n",
    "    for i in range(len(frequencies)):\n",
    "        finallist.append(newlist[i][0])\n",
    "    str1 = ''.join(finallist)\n",
    "    return str1\n",
    "print most_frequent(\"LolcAt     zlo   lc  at     zlol\")\n",
    "print most_frequent(\"ii  il    uv  myca  rzsomuch\")\n",
    "print most_frequent(\"A tuple would be used when you need multiple keys for your dictionary. A list could be used when you want something that contains all kinds of data types with an index. A string is used to hold letters.\")"
   ]
  },
  {
   "cell_type": "markdown",
   "metadata": {
    "is_question": true,
    "problem": "Exercise 12.6"
   },
   "source": [
    "### Challenge: Exercise 6   (optional)\n",
    "\n",
    "From a [Car Talk Puzzler](http://www.cartalk.com/content/puzzlers):\n",
    "\n",
    "What is the longest English word, that remains a valid English word, as you remove its letters one at a time?\n",
    "\n",
    "Now, letters can be removed from either end, or the middle, but you can’t rearrange any of the letters. Every time you drop a letter, you wind up with another English word. If you do that, you’re eventually going to wind up with one letter and that too is going to be an English word—one that’s found in the dictionary. I want to know what’s the longest word and how many letters does it have?\n",
    "\n",
    "I’m going to give you a little modest example: Sprite. Ok? You start off with sprite, you take a letter off, one from the interior of the word, take the r away, and we’re left with the word spite, then we take the e off the end, we’re left with spit, we take the s off, we’re left with pit, it, and I. \n",
    "\n",
    "Write a program to find all words that can be reduced in this way, and then find the longest one.\n",
    "\n",
    "This exercise is a little more challenging than most, so here are some suggestions:\n",
    "\n",
    "- You might want to write a function that takes a word and computes a list of all the words that can be formed by removing one letter. These are the “children” of the word.\n",
    "- Recursively, a word is reducible if any of its children are reducible. As a base case, you can consider the empty string reducible.\n",
    "- The word list from [Chapter 9.1](http://www.greenteapress.com/thinkpython/html/thinkpython010.html) Exercise 1 doesn’t contain single letter words. So you might want to add “I”, “a”, and the empty string.\n",
    "- To improve the performance of your program, you might want to memoize the words that are known to be reducible.\n",
    "\n",
    "Allen's solution: http://thinkpython.com/code/reducible.py."
   ]
  },
  {
   "cell_type": "code",
   "execution_count": null,
   "metadata": {
    "collapsed": true,
    "solution": "Exercise 12.6"
   },
   "outputs": [],
   "source": []
  },
  {
   "cell_type": "markdown",
   "metadata": {
    "is_question": true,
    "problem": "Feedback"
   },
   "source": [
    "## Reading Journal feedback\n",
    "\n",
    "Have any comments on this Reading Journal? Feel free to leave them below and we'll read them when you submit your journal entry. This could include suggestions to improve the exercises, topics you'd like to see covered in class next time, or other feedback.\n",
    "\n",
    "If you have Python questions or run into problems while completing the reading, you should post them to Piazza instead so you can get a quick response before your journal is submitted."
   ]
  },
  {
   "cell_type": "markdown",
   "metadata": {
    "feedback_response": true,
    "solution": "Feedback"
   },
   "source": [
    " "
   ]
  }
 ],
 "metadata": {
  "celltoolbar": "Edit Metadata",
  "kernelspec": {
   "display_name": "Python 2",
   "language": "python",
   "name": "python2"
  },
  "language_info": {
   "codemirror_mode": {
    "name": "ipython",
    "version": 2
   },
   "file_extension": ".py",
   "mimetype": "text/x-python",
   "name": "python",
   "nbconvert_exporter": "python",
   "pygments_lexer": "ipython2",
   "version": "2.7.6"
  }
 },
 "nbformat": 4,
 "nbformat_minor": 0
}
