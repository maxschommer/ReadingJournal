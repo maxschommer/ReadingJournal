{
 "cells": [
  {
   "cell_type": "markdown",
   "metadata": {},
   "source": [
    "# Day 1 Reading Journal\n",
    "\n",
    "Hi everyone.  These are the exercises for the first set of readings from ThinkPython.  While this journal consists of several required exercises, it is meant to encourage active reading more generally.  You should use this journal to take detailed notes, catalog questions, and explore the content from ThinkPython deeply.\n",
    "\n",
    "For more information on using the Jupyter notebook, check out the documentation [here](http://nbviewer.jupyter.org/github/jupyter/notebook/blob/master/docs/source/examples/Notebook/Examples%20and%20Tutorials%20Index.ipynb).  Additionally, in order to write text in this document, you will be making use of markdown cells. A handy cheatsheet for markdown is available [here](https://github.com/adam-p/markdown-here/wiki/Markdown-Cheatsheet)."
   ]
  },
  {
   "cell_type": "markdown",
   "metadata": {},
   "source": [
    "## Chapter 1\n",
    "\n",
    "Note: the exercise numbers below match up with the reading for ease of cross referencing."
   ]
  },
  {
   "cell_type": "markdown",
   "metadata": {},
   "source": [
    "Interpreters reads a high level program and executes it. A compliler reads the program and intrepets it completely before running. "
   ]
  },
  {
   "cell_type": "markdown",
   "metadata": {},
   "source": [
    "Interactive mode makes the code execute immediately. Script mode is better for long code. "
   ]
  },
  {
   "cell_type": "markdown",
   "metadata": {},
   "source": [
    "Programming  languages  are  formal  languages  that  have  been  designed  to express computations.\n",
    "Tokens are basic elements of language. It is important that tokens are legal, but also that they are arranged correctly."
   ]
  },
  {
   "cell_type": "markdown",
   "metadata": {},
   "source": [
    "### Exercise 3\n",
    "\n",
    "Type `help()` to start the online help utility. Or you can type help('print') to get information about the print statement.  You should type `q` and then hit `enter` in the text box to exit the help utility. \n",
    "\n",
    "Note: this exercise is pretty simple (and there's not much to put in the box)!  We just want to make sure that you have tried out this super-handy feature of Python!"
   ]
  },
  {
   "cell_type": "code",
   "execution_count": 11,
   "metadata": {
    "collapsed": false,
    "scrolled": true
   },
   "outputs": [
    {
     "name": "stdout",
     "output_type": "stream",
     "text": [
      "\n",
      "Welcome to Python 2.7!  This is the online help utility.\n",
      "\n",
      "If this is your first time using Python, you should definitely check out\n",
      "the tutorial on the Internet at http://docs.python.org/2.7/tutorial/.\n",
      "\n",
      "Enter the name of any module, keyword, or topic to get help on writing\n",
      "Python programs and using Python modules.  To quit this help utility and\n",
      "return to the interpreter, just type \"quit\".\n",
      "\n",
      "To get a list of available modules, keywords, or topics, type \"modules\",\n",
      "\"keywords\", or \"topics\".  Each module also comes with a one-line summary\n",
      "of what it does; to list the modules whose summaries contain a given word\n",
      "such as \"spam\", type \"modules spam\".\n",
      "\n",
      "\n",
      "You are now leaving help and returning to the Python interpreter.\n",
      "If you want to ask for help on a particular object directly from the\n",
      "interpreter, you can type \"help(object)\".  Executing \"help('string')\"\n",
      "has the same effect as typing a particular string at the help> prompt.\n",
      "help> quit\n"
     ]
    }
   ],
   "source": [
    "help()\n"
   ]
  },
  {
   "cell_type": "markdown",
   "metadata": {},
   "source": [
    "### Exercise 4  \n",
    "\n",
    "Start the Python interpreter and use it as a calculator. Python’s syntax for math operations is almost the same as standard mathematical notation. For example, the symbols +, - and / denote addition, subtraction and division, as you would expect. The symbol for multiplication is *.\n",
    "\n",
    "If you run a 10 kilometer race in 43 minutes 30 seconds, what is your average time per mile? What is your average speed in miles per hour? (Hint: there are 1.61 kilometers in a mile). "
   ]
  },
  {
   "cell_type": "code",
   "execution_count": 25,
   "metadata": {
    "collapsed": false
   },
   "outputs": [
    {
     "name": "stdout",
     "output_type": "stream",
     "text": [
      "8.56714499893\n"
     ]
    }
   ],
   "source": [
    "print (10/1.61)/43.5*60"
   ]
  },
  {
   "cell_type": "markdown",
   "metadata": {},
   "source": [
    "## Chapter 2"
   ]
  },
  {
   "cell_type": "markdown",
   "metadata": {},
   "source": [
    "Values are two types: string, and an integer.\n",
    "Assignment statement creates new variables and gives them values.\n",
    "Operators are special symbols that represent computations.\n",
    "A statement is a unit of code that the Python interpreter can execute.\n"
   ]
  },
  {
   "cell_type": "markdown",
   "metadata": {},
   "source": [
    "### Exercise 2  \n",
    "\n",
    "Assume that we execute the following assignment statements:\n",
    "\n",
    "width = 17  \n",
    "height = 12.0  \n",
    "delimiter = '.'  \n",
    "\n",
    "For each of the following expressions, write the value of the expression and the type (of the value of the expression).\n",
    "\n",
    "1. `width/2`\n",
    "2. `width/2.0`\n",
    "3. `height/3`\n",
    "4. `1 + 2 * 5`\n",
    "5. `delimiter * 5`\n",
    "\n",
    "Please use the following markdown cell to provide your answer."
   ]
  },
  {
   "cell_type": "markdown",
   "metadata": {},
   "source": [
    "1. value = 8, type = integer\n",
    "2. value = 8.5, type = float\n",
    "3. value = 4.0, type = float\n",
    "4. value = 11, type = integer\n",
    "5. value = '.....', type = string"
   ]
  },
  {
   "cell_type": "markdown",
   "metadata": {},
   "source": [
    "### Exercise 3  \n",
    "\n",
    "Practice using the Python interpreter as a calculator.  For each of these provide Python code that computes each answer.\n",
    "\n",
    "    \n"
   ]
  },
  {
   "cell_type": "markdown",
   "metadata": {},
   "source": [
    "The volume of a sphere with radius r is 4/3 $\\pi r^3$. What is the volume of a sphere with radius 5? Hint: 392.7 is wrong!"
   ]
  },
  {
   "cell_type": "code",
   "execution_count": 2,
   "metadata": {
    "collapsed": false
   },
   "outputs": [
    {
     "name": "stdout",
     "output_type": "stream",
     "text": [
      "523.598775667\n"
     ]
    }
   ],
   "source": [
    "r = 5.0\n",
    "pi = 3.141592654\n",
    "volume = (4*pi*r**3)/3\n",
    "print volume"
   ]
  },
  {
   "cell_type": "markdown",
   "metadata": {},
   "source": [
    "Suppose the cover price of a book is \\$24.95, but bookstores get a 40% discount. Shipping costs \\$3 for the first copy and 75 cents for each additional copy. What is the total wholesale cost for 60 copies?"
   ]
  },
  {
   "cell_type": "code",
   "execution_count": 6,
   "metadata": {
    "collapsed": false
   },
   "outputs": [
    {
     "name": "stdout",
     "output_type": "stream",
     "text": [
      "945.45\n"
     ]
    }
   ],
   "source": [
    "coverprice = 24.95 #dollars\n",
    "saleprice = coverprice*.60\n",
    "numberofbooks = 60\n",
    "shippingcosts = 3.00+(numberofbooks-1)*.75\n",
    "wholesale = shippingcosts+saleprice*60.0\n",
    "print wholesale"
   ]
  },
  {
   "cell_type": "markdown",
   "metadata": {},
   "source": [
    "If I leave my house at 6:52 am and run 1 mile at an easy pace (8:15 per mile), then 3 miles at tempo (7:12 per mile) and 1 mile at easy pace again, what time do I get home for breakfast? "
   ]
  },
  {
   "cell_type": "code",
   "execution_count": 1,
   "metadata": {
    "collapsed": false
   },
   "outputs": [
    {
     "name": "stdout",
     "output_type": "stream",
     "text": [
      "runtime = 38.1 minutes\n",
      "breakfast =  7 : 30 : 6\n"
     ]
    }
   ],
   "source": [
    "easy = 8.0+15.0/60.0\n",
    "tempo = 7.0 + 12.0/60.0\n",
    "hour = 6.0 + 52.0/60.0\n",
    "runtime = 2*easy+3*tempo\n",
    "print 'runtime =' , runtime , 'minutes'\n",
    "breakfast = hour + runtime/60.0\n",
    "import math\n",
    "minutes = 60*(breakfast - math.floor(breakfast))\n",
    "minutes = math.floor(minutes)\n",
    "seconds = 60*(60*(breakfast - math.floor(breakfast)) - math.floor(60*(breakfast - math.floor(breakfast))))\n",
    "hour = math.floor(breakfast)\n",
    "\n",
    "print 'breakfast = ',int(hour), ':', int(minutes), ':', int(seconds)"
   ]
  },
  {
   "cell_type": "markdown",
   "metadata": {},
   "source": [
    "## Chapter 3"
   ]
  },
  {
   "cell_type": "markdown",
   "metadata": {},
   "source": [
    "Function: takes an argument and returns a 'return value'\n",
    "To access a function, name of function and name of module separated by a dot. This is dot notation.\n",
    "Statements are executed one at a time in order from top to bottom\n",
    "A variable inside a function is local.\n",
    "Stack diagram shows which variable belong to which function.\n"
   ]
  },
  {
   "cell_type": "markdown",
   "metadata": {},
   "source": [
    "### Exercise 3\n",
    "\n",
    "Python provides a built-in function called len that returns the length of a string, so the value of len('allen') is 5.\n",
    "Write a function named right_justify that takes a string named s as a parameter and prints the string with enough leading spaces so that the last letter of the string is in column 70 of the display.\n",
    "\n",
    "```\n",
    ">>> right_justify('allen')\n",
    "                                                                 allen```"
   ]
  },
  {
   "cell_type": "code",
   "execution_count": 12,
   "metadata": {
    "collapsed": false
   },
   "outputs": [
    {
     "name": "stdout",
     "output_type": "stream",
     "text": [
      "                                                                 happy\n",
      "                                                happylolcatzthisiscool\n"
     ]
    }
   ],
   "source": [
    "mystring = 'happy'\n",
    "right_justify(mystring)\n",
    "def right_justify(mystring):\n",
    "    length = len(mystring)\n",
    "    spaces = (70-length)*' '\n",
    "    justified = spaces+mystring\n",
    "    print justified\n",
    "mystring2 = 'happylolcatzthisiscool'\n",
    "right_justify(mystring2)\n"
   ]
  },
  {
   "cell_type": "markdown",
   "metadata": {},
   "source": [
    "### Exercise 5\n",
    "\n",
    "This exercise can be done using only the statements and other features we have learned so far.\n",
    "\n",
    "(a) Write a function that draws a grid like the following:\n",
    "```\n",
    "+ - - - - + - - - - +\n",
    "|         |         |\n",
    "|         |         |\n",
    "|         |         |\n",
    "|         |         |\n",
    "+ - - - - + - - - - +\n",
    "|         |         |\n",
    "|         |         |\n",
    "|         |         |\n",
    "|         |         |\n",
    "+ - - - - + - - - - +\n",
    "```\n",
    "**Hint:** to print more than one value on a line, you can print a comma-separated sequence:\n",
    "print '+', '-'\n",
    "If the sequence ends with a comma, Python leaves the line unfinished, so the value printed next appears on the same line.\n",
    "print '+', \n",
    "print '-'\n",
    "The output of these statements is '+ -'.\n",
    "A print statement all by itself ends the current line and goes to the next line."
   ]
  },
  {
   "cell_type": "code",
   "execution_count": 55,
   "metadata": {
    "collapsed": false
   },
   "outputs": [
    {
     "name": "stdout",
     "output_type": "stream",
     "text": [
      "+ - - - - + - - - - +\n",
      "|         |         |         \n",
      "|         |         |         \n",
      "|         |         |         \n",
      "|         |         |         \n",
      "+ - - - - + - - - - +\n",
      "|         |         |         \n",
      "|         |         |         \n",
      "|         |         |         \n",
      "|         |         |         \n",
      "+ - - - - + - - - - +\n"
     ]
    }
   ],
   "source": [
    "\n",
    "def gridmaker(realx, realy):\n",
    "    xdimmension = realx+1\n",
    "    ydimmension = realy+1\n",
    "    horiz = ' - - - - +'\n",
    "    vert = '|         '\n",
    "    \n",
    "    def rowofbox(xdim,ydim):\n",
    "        horiz = ' - - - - +'\n",
    "        vert = '|         '\n",
    "        print '+'+horiz*(xdim-1)\n",
    "        for x in range(1, ydim):\n",
    "            print vert*xdim\n",
    "            print vert*xdim\n",
    "            print vert*xdim\n",
    "            print vert*xdim\n",
    "            print '+'+horiz*(xdim-1)\n",
    "    rowofbox(xdimmension, ydimmension)\n",
    "gridmaker(2,2)"
   ]
  },
  {
   "cell_type": "markdown",
   "metadata": {},
   "source": [
    "(b) Write a function that draws a similar grid with four rows and four columns."
   ]
  },
  {
   "cell_type": "code",
   "execution_count": 62,
   "metadata": {
    "collapsed": false
   },
   "outputs": [
    {
     "name": "stdout",
     "output_type": "stream",
     "text": [
      "+ - - - - + - - - - + - - - - + - - - - +\n",
      "|         |         |         |         |         \n",
      "|         |         |         |         |         \n",
      "|         |         |         |         |         \n",
      "|         |         |         |         |         \n",
      "+ - - - - + - - - - + - - - - + - - - - +\n",
      "|         |         |         |         |         \n",
      "|         |         |         |         |         \n",
      "|         |         |         |         |         \n",
      "|         |         |         |         |         \n",
      "+ - - - - + - - - - + - - - - + - - - - +\n",
      "|         |         |         |         |         \n",
      "|         |         |         |         |         \n",
      "|         |         |         |         |         \n",
      "|         |         |         |         |         \n",
      "+ - - - - + - - - - + - - - - + - - - - +\n",
      "|         |         |         |         |         \n",
      "|         |         |         |         |         \n",
      "|         |         |         |         |         \n",
      "|         |         |         |         |         \n",
      "+ - - - - + - - - - + - - - - + - - - - +\n"
     ]
    }
   ],
   "source": [
    "def gridmaker(realx, realy):\n",
    "    xdimmension = realx+1\n",
    "    ydimmension = realy+1\n",
    "    horiz = ' - - - - +'\n",
    "    vert = '|         '\n",
    "    \n",
    "    def rowofbox(xdim,ydim):\n",
    "        horiz = ' - - - - +'\n",
    "        vert = '|         '\n",
    "        print '+'+horiz*(xdim-1)\n",
    "        for x in range(1, ydim):\n",
    "            print vert*xdim\n",
    "            print vert*xdim\n",
    "            print vert*xdim\n",
    "            print vert*xdim\n",
    "            print '+'+horiz*(xdim-1)\n",
    "    rowofbox(xdimmension, ydimmension)\n",
    "gridmaker(4,4)"
   ]
  },
  {
   "cell_type": "markdown",
   "metadata": {},
   "source": [
    "## Chapter 5.1 - 5.7"
   ]
  },
  {
   "cell_type": "markdown",
   "metadata": {},
   "source": [
    "Recursion is when a function calls itself."
   ]
  },
  {
   "cell_type": "markdown",
   "metadata": {},
   "source": [
    "### Exercise 3  \n",
    "\n",
    "Fermat’s Last Theorem says that there are no positive integers a, b, and c such that $a^n + b^n = c^n$ for any values of n greater than 2.\n",
    "\n",
    "(a) Write a function named `check_fermat` that takes four parameters—a, b, c and n—and that checks to see if Fermat’s theorem holds. If n is greater than 2 and it turns out to be true that\n",
    "$a^n + b^n = c^n$ the program should print, \"Holy smokes, Fermat was wrong!\" Otherwise the program should print, \"No, that doesn’t work.\""
   ]
  },
  {
   "cell_type": "code",
   "execution_count": 64,
   "metadata": {
    "collapsed": false
   },
   "outputs": [
    {
     "name": "stdout",
     "output_type": "stream",
     "text": [
      "No, that doesn't work\n",
      "No, that doesn't work\n",
      "No, that doesn't work\n",
      "No, that doesn't work\n",
      "No, that doesn't work\n",
      "No, that doesn't work\n",
      "No, that doesn't work\n",
      "No, that doesn't work\n",
      "No, that doesn't work\n",
      "No, that doesn't work\n",
      "No, that doesn't work\n",
      "No, that doesn't work\n",
      "No, that doesn't work\n",
      "No, that doesn't work\n",
      "No, that doesn't work\n",
      "No, that doesn't work\n",
      "No, that doesn't work\n",
      "No, that doesn't work\n",
      "No, that doesn't work\n",
      "No, that doesn't work\n",
      "No, that doesn't work\n",
      "No, that doesn't work\n",
      "No, that doesn't work\n",
      "No, that doesn't work\n",
      "No, that doesn't work\n",
      "No, that doesn't work\n",
      "No, that doesn't work\n",
      "No, that doesn't work\n",
      "No, that doesn't work\n",
      "No, that doesn't work\n",
      "No, that doesn't work\n",
      "No, that doesn't work\n",
      "No, that doesn't work\n",
      "No, that doesn't work\n",
      "No, that doesn't work\n",
      "No, that doesn't work\n",
      "No, that doesn't work\n",
      "No, that doesn't work\n",
      "No, that doesn't work\n",
      "No, that doesn't work\n",
      "No, that doesn't work\n",
      "No, that doesn't work\n",
      "No, that doesn't work\n",
      "No, that doesn't work\n",
      "No, that doesn't work\n",
      "No, that doesn't work\n",
      "No, that doesn't work\n",
      "No, that doesn't work\n",
      "No, that doesn't work\n",
      "No, that doesn't work\n",
      "No, that doesn't work\n",
      "No, that doesn't work\n",
      "No, that doesn't work\n",
      "No, that doesn't work\n",
      "No, that doesn't work\n",
      "No, that doesn't work\n",
      "No, that doesn't work\n",
      "No, that doesn't work\n",
      "No, that doesn't work\n",
      "No, that doesn't work\n",
      "No, that doesn't work\n",
      "No, that doesn't work\n",
      "No, that doesn't work\n",
      "No, that doesn't work\n",
      "No, that doesn't work\n",
      "No, that doesn't work\n",
      "No, that doesn't work\n",
      "No, that doesn't work\n",
      "No, that doesn't work\n",
      "No, that doesn't work\n",
      "No, that doesn't work\n",
      "No, that doesn't work\n",
      "No, that doesn't work\n",
      "No, that doesn't work\n",
      "No, that doesn't work\n",
      "No, that doesn't work\n",
      "No, that doesn't work\n",
      "No, that doesn't work\n",
      "No, that doesn't work\n",
      "No, that doesn't work\n",
      "No, that doesn't work\n",
      "No, that doesn't work\n",
      "No, that doesn't work\n",
      "No, that doesn't work\n",
      "No, that doesn't work\n",
      "No, that doesn't work\n",
      "No, that doesn't work\n",
      "No, that doesn't work\n",
      "No, that doesn't work\n",
      "No, that doesn't work\n",
      "No, that doesn't work\n",
      "No, that doesn't work\n",
      "No, that doesn't work\n",
      "No, that doesn't work\n",
      "No, that doesn't work\n",
      "No, that doesn't work\n",
      "No, that doesn't work\n",
      "Taking too long, sorry.\n"
     ]
    }
   ],
   "source": [
    "def check_fermat(a,b,c,n):\n",
    "    if a**n+b**n==c**n:\n",
    "        print \"Holy smokes, Fermat was wrong!\"\n",
    "    else:\n",
    "        print \"No, that doesn't work\"\n",
    "    n = n+1\n",
    "    if n<100:\n",
    "        check_fermat(a,b,c,n)\n",
    "    else:\n",
    "        print \"Taking too long, sorry.\"\n",
    "check_fermat(3,5,8,3)\n",
    "\n",
    "    "
   ]
  },
  {
   "cell_type": "markdown",
   "metadata": {},
   "source": [
    "(b) Write a function that prompts the user to input values for a, b, c and n, converts them to integers, and uses check_fermat to check whether they violate Fermat’s theorem."
   ]
  },
  {
   "cell_type": "code",
   "execution_count": 70,
   "metadata": {
    "collapsed": false
   },
   "outputs": [
    {
     "name": "stdout",
     "output_type": "stream",
     "text": [
      "What is the value of a?\n",
      "3\n",
      "What is the value of b?\n",
      "4\n",
      "What is the value of c?\n",
      "5\n",
      "What is the value of n?\n",
      "6\n",
      "No, that doesn't work\n"
     ]
    }
   ],
   "source": [
    "def check_fermat(a,b,c,n):\n",
    "    if a**n+b**n==c**n:\n",
    "        print \"Holy smokes, Fermat was wrong!\"\n",
    "    else:\n",
    "        print \"No, that doesn't work\"\n",
    "   \n",
    "        \n",
    "a = int(raw_input('What is the value of a?\\n'))\n",
    "b = int(raw_input('What is the value of b?\\n'))\n",
    "c = int(raw_input('What is the value of c?\\n'))\n",
    "n = int(raw_input('What is the value of n?\\n'))\n",
    "check_fermat(a,b,c,n)\n"
   ]
  },
  {
   "cell_type": "markdown",
   "metadata": {},
   "source": [
    "### Exercise 4  \n",
    "\n",
    "If you are given three sticks, you may or may not be able to arrange them in a triangle. For example, if one of the sticks is 12 inches long and the other two are one inch long, it is clear that you will not be able to get the short sticks to meet in the middle. For any three lengths, there is a simple test to see if it is possible to form a triangle:\n",
    "> If any of the three lengths is greater than the sum of the other two, then you cannot form a triangle. Otherwise, you can. (If the sum of two lengths equals the third, they form what is called a “degenerate” triangle.)\n",
    "\n",
    "(a) Write a function named `is_triangle` that takes three integers as arguments, and that prints either \"Yes\" or \"No,\" depending on whether you can or cannot form a triangle from sticks with the given lengths."
   ]
  },
  {
   "cell_type": "code",
   "execution_count": 73,
   "metadata": {
    "collapsed": false
   },
   "outputs": [
    {
     "name": "stdout",
     "output_type": "stream",
     "text": [
      "Yes\n"
     ]
    }
   ],
   "source": [
    "def is_triangle (a,b,c):\n",
    "    if a+b>=c:\n",
    "        if a+c>=b:\n",
    "            if b+c>=a:\n",
    "                print \"Yes\"\n",
    "    else:\n",
    "        print \"No\"\n",
    "is_triangle(4,4,8)"
   ]
  },
  {
   "cell_type": "markdown",
   "metadata": {},
   "source": [
    "(b) Write a function that prompts the user to input three stick lengths, converts them to integers, and uses is_triangle to check whether sticks with the given lengths can form a triangle."
   ]
  },
  {
   "cell_type": "code",
   "execution_count": 74,
   "metadata": {
    "collapsed": false
   },
   "outputs": [
    {
     "name": "stdout",
     "output_type": "stream",
     "text": [
      "What is the value of a?\n",
      "3\n",
      "What is the value of b?\n",
      "4\n",
      "What is the value of c?\n",
      "5\n",
      "Yes\n"
     ]
    }
   ],
   "source": [
    "def is_triangle (a,b,c):\n",
    "    if a+b>=c:\n",
    "        if a+c>=b:\n",
    "            if b+c>=a:\n",
    "                print \"Yes\"\n",
    "    else:\n",
    "        print \"No\"\n",
    "a = int(raw_input('What is the value of a?\\n'))\n",
    "b = int(raw_input('What is the value of b?\\n'))\n",
    "c = int(raw_input('What is the value of c?\\n'))\n",
    "is_triangle(a,b,c)"
   ]
  },
  {
   "cell_type": "markdown",
   "metadata": {},
   "source": [
    "## Notes for the Instructors\n",
    "\n",
    "Please use the space below to write comments to help us plan the next class session.  For instance, if you want to see us go over an example of a particular type of problem, you can indicate that here.\n",
    "\n",
    "Please remember that the best way to get quick feedback from the instructors as well as your peers, is to use Piazza.  However, consider using this channel if it doesn't make sense to post your note to Piazza."
   ]
  },
  {
   "cell_type": "markdown",
   "metadata": {},
   "source": [
    "The readings took me a long time to go through, even though most of it was review. I wanted to make sure I didn't miss anything, so on top of learning how to use linux I think it was a lot of work for one weekend. Other than that, great book, very easy to understand, and a quick read relative to other programming books. "
   ]
  }
 ],
 "metadata": {
  "celltoolbar": "Raw Cell Format",
  "kernelspec": {
   "display_name": "Python 2",
   "language": "python",
   "name": "python2"
  },
  "language_info": {
   "codemirror_mode": {
    "name": "ipython",
    "version": 2
   },
   "file_extension": ".py",
   "mimetype": "text/x-python",
   "name": "python",
   "nbconvert_exporter": "python",
   "pygments_lexer": "ipython2",
   "version": "2.7.6"
  }
 },
 "nbformat": 4,
 "nbformat_minor": 0
}
