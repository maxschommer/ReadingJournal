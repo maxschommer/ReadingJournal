{
 "cells": [
  {
   "cell_type": "code",
   "execution_count": null,
   "metadata": {
    "collapsed": true
   },
   "outputs": [],
   "source": [
    "# Day 2 Reading Journal\n",
    "\n",
    "This journal includes several required exercises, but it is meant to encourage active reading more generally.  You should use the journal to take detailed notes, catalog questions, and explore the content from Think Python deeply.\n",
    "\n",
    "Reading: Think Python Chapter 6.1-6.4, 7\n",
    "\n",
    "**Due: Thursday, January 28 at 12 noon**\n",
    "\n"
   ]
  },
  {
   "cell_type": "markdown",
   "metadata": {},
   "source": [
    "## [Chapter 6.1-6.4](http://www.greenteapress.com/thinkpython/html/thinkpython007.html)\n",
    "\n",
    "Note: the exercise numbers below match up with the reading for ease of cross referencing."
   ]
  },
  {
   "cell_type": "markdown",
   "metadata": {},
   "source": [
    "**Quick check:** What is a _fruitful function_?"
   ]
  },
  {
   "cell_type": "markdown",
   "metadata": {},
   "source": [
    " A fruitful function is one that returns a value, i.e. it is not a null function.\n",
    " Make sure that all paths of a function have a return statement and also that all paths are possible so there isn't dead code."
   ]
  },
  {
   "cell_type": "markdown",
   "metadata": {},
   "source": [
    "### Exercise 1  \n",
    "Write a `compare` function that returns `1` if `x > y`, `0` if `x == y`, and `-1` if `x < y`."
   ]
  },
  {
   "cell_type": "code",
   "execution_count": 42,
   "metadata": {
    "collapsed": false
   },
   "outputs": [
    {
     "name": "stdout",
     "output_type": "stream",
     "text": [
      "-1\n",
      "1\n",
      "0\n",
      "These are not valid inputs\n",
      "These are not valid inputs\n",
      "These are not valid inputs\n"
     ]
    }
   ],
   "source": [
    "import numbers\n",
    "import decimal\n",
    "\n",
    "def compare(x,y): #This will first check if x and y are valid inputs, and then it will compare them, return 1, 0, -1, or \"These are not valid inputs\"\n",
    "    if checkifnumber(x):\n",
    "        if checkifnumber(y):\n",
    "            if x > y:\n",
    "                return 1\n",
    "            if x == y:\n",
    "                return 0\n",
    "            if x < y:\n",
    "                return -1\n",
    "        else:\n",
    "            return \"These are not valid inputs\"\n",
    "    else:\n",
    "        return \"These are not valid inputs\"\n",
    "def checkifnumber(a):   #This checks if the input is a number. \n",
    "    return isinstance(a, (int, long, float, complex))\n",
    "\n",
    "\n",
    "print compare(3,4)\n",
    "print compare(4,3)\n",
    "print compare(4,4)\n",
    "print compare(1, \"not\")\n",
    "print compare(\"why\", 1)\n",
    "print compare(\"why\", \"not\")"
   ]
  },
  {
   "cell_type": "markdown",
   "metadata": {},
   "source": [
    "**Quick check:** Modify the `absolute_value` function so that it returns the correct result for all integer inputs."
   ]
  },
  {
   "cell_type": "code",
   "execution_count": 2,
   "metadata": {
    "collapsed": true
   },
   "outputs": [],
   "source": [
    "def absolute_value(x):\n",
    "    if x < 0:\n",
    "        return -x\n",
    "    if x > 0:\n",
    "        return x\n",
    "    if x == 0:\n",
    "        return 0"
   ]
  },
  {
   "cell_type": "markdown",
   "metadata": {},
   "source": [
    "Include scaffolding code in order to test, but remove it once the code works."
   ]
  },
  {
   "cell_type": "markdown",
   "metadata": {},
   "source": [
    "### Exercise 2  \n",
    "Use incremental development to write a function called `hypotenuse` that returns the length of the hypotenuse of a right triangle given the lengths of the two legs as arguments. Record each stage of the development process as you go, using as many cells as you need."
   ]
  },
  {
   "cell_type": "code",
   "execution_count": 34,
   "metadata": {
    "collapsed": false
   },
   "outputs": [
    {
     "data": {
      "text/plain": [
       "0.0"
      ]
     },
     "execution_count": 34,
     "metadata": {},
     "output_type": "execute_result"
    }
   ],
   "source": [
    "def hypotenuse(l1,l2):\n",
    "    return 0.0\n",
    "hypotenuse(3,4)"
   ]
  },
  {
   "cell_type": "code",
   "execution_count": 37,
   "metadata": {
    "collapsed": false
   },
   "outputs": [
    {
     "name": "stdout",
     "output_type": "stream",
     "text": [
      "3\n",
      "4\n"
     ]
    },
    {
     "data": {
      "text/plain": [
       "0.0"
      ]
     },
     "execution_count": 37,
     "metadata": {},
     "output_type": "execute_result"
    }
   ],
   "source": [
    "def hypotenuse(l1,l2):\n",
    "    leg1 = l1\n",
    "    leg2 = l2\n",
    "    print leg1\n",
    "    print leg2\n",
    "    return 0.0\n",
    "hypotenuse(3,4)"
   ]
  },
  {
   "cell_type": "code",
   "execution_count": 39,
   "metadata": {
    "collapsed": false
   },
   "outputs": [
    {
     "name": "stdout",
     "output_type": "stream",
     "text": [
      "25\n"
     ]
    },
    {
     "data": {
      "text/plain": [
       "0.0"
      ]
     },
     "execution_count": 39,
     "metadata": {},
     "output_type": "execute_result"
    }
   ],
   "source": [
    "import math\n",
    "def hypotenuse(l1,l2):\n",
    "    leg1 = l1\n",
    "    leg2 = l2\n",
    "    hsquared = leg1**2 + leg2**2\n",
    "    print hsquared\n",
    "    return 0.0\n",
    "hypotenuse(3,4)"
   ]
  },
  {
   "cell_type": "code",
   "execution_count": 97,
   "metadata": {
    "collapsed": false
   },
   "outputs": [
    {
     "data": {
      "text/plain": [
       "5.0"
      ]
     },
     "execution_count": 97,
     "metadata": {},
     "output_type": "execute_result"
    }
   ],
   "source": [
    "import math\n",
    "def hypotenuse(l1,l2):\n",
    "    leg1 = l1\n",
    "    leg2 = l2\n",
    "    hsquared = leg1**2 + leg2**2\n",
    "    result = math.sqrt (hsquared)\n",
    "    return result\n",
    "hypotenuse(3,4)"
   ]
  },
  {
   "cell_type": "markdown",
   "metadata": {},
   "source": [
    "### Exercise 3  \n",
    "Write a function `is_between(x, y, z)` that returns `True` if `x ≤ y ≤ z` or `False` otherwise."
   ]
  },
  {
   "cell_type": "code",
   "execution_count": 1,
   "metadata": {
    "collapsed": false
   },
   "outputs": [
    {
     "data": {
      "text/plain": [
       "False"
      ]
     },
     "execution_count": 1,
     "metadata": {},
     "output_type": "execute_result"
    }
   ],
   "source": [
    "def is_between(x, y, z):\n",
    "    if checkifnumber(x) and checkifnumber(y) and checkifnumber(z):\n",
    "        if x <= y and y <= z:\n",
    "            return True\n",
    "        elif x >= y and y >= z:\n",
    "            return True\n",
    "        return False\n",
    "    else:\n",
    "        return \"The inputs are invalid\"\n",
    "def checkifnumber(a):   #This checks if the input is a number. \n",
    "    return isinstance(a, (int, long, float, complex))\n",
    "is_between(5,7,2)"
   ]
  },
  {
   "cell_type": "markdown",
   "metadata": {},
   "source": [
    "## [Chapter 7](http://www.greenteapress.com/thinkpython/html/thinkpython008.html)\n",
    "\n"
   ]
  },
  {
   "cell_type": "markdown",
   "metadata": {},
   "source": [
    "**Quick check:** How do you test for equality in Python?"
   ]
  },
  {
   "cell_type": "markdown",
   "metadata": {},
   "source": [
    " You use the 'is' function to find if strings are equal, and == to see if numbers are equal."
   ]
  },
  {
   "cell_type": "markdown",
   "metadata": {},
   "source": [
    "**Challenge:** Prove/disprove the Collatz conjecture :)"
   ]
  },
  {
   "cell_type": "code",
   "execution_count": 2,
   "metadata": {
    "collapsed": false
   },
   "outputs": [
    {
     "name": "stdout",
     "output_type": "stream",
     "text": [
      "So you think you're smarter than Collatz...\n",
      "64\n",
      "32\n",
      "16\n",
      "8\n",
      "4\n",
      "2\n",
      "1\n",
      "Well, surprise, you're not. Oh, this isn't a proof, is it? I guess I misread that problem...\n"
     ]
    }
   ],
   "source": [
    "def numerical_collatz(x):\n",
    "    print \"So you think you're smarter than Collatz...\"\n",
    "    while x > 1:\n",
    "        if x%2 == 0:\n",
    "            x = x/2\n",
    "            print x\n",
    "        else:\n",
    "            x = 3*x +1\n",
    "            print x\n",
    "    print \"Well, surprise, you're not. Oh, this isn't a proof, is it? I guess I misread that problem...\"\n",
    "numerical_collatz(21)"
   ]
  },
  {
   "cell_type": "markdown",
   "metadata": {},
   "source": [
    "### Exercise 2  \n",
    "Encapsulate the loop from Section 7.5 in a function called `square_root` that takes `a` as a parameter, chooses a reasonable value of `x`, and returns an estimate of the square root of `a`."
   ]
  },
  {
   "cell_type": "code",
   "execution_count": 8,
   "metadata": {
    "collapsed": false
   },
   "outputs": [
    {
     "data": {
      "text/plain": [
       "4.358898943540673"
      ]
     },
     "execution_count": 8,
     "metadata": {},
     "output_type": "execute_result"
    }
   ],
   "source": [
    "def squareroot(a, epsilon):\n",
    "    x = a/3\n",
    "    while True:\n",
    "        y = x\n",
    "        x =  (x + a/x)/2.0\n",
    "        if abs(y-x) < epsilon:\n",
    "            break\n",
    "    return x\n",
    "squareroot(19,0.000000001)"
   ]
  },
  {
   "cell_type": "markdown",
   "metadata": {},
   "source": [
    "### Exercise 3  \n",
    "To test the square root algorithm you developed in Exercise 2, you could compare it with Python's `math.sqrt` function. Write a function named `test_square_root` that prints a table like this:\n",
    "\n",
    "```python\n",
    "1.0 1.0           1.0           0.0\n",
    "2.0 1.41421356237 1.41421356237 2.22044604925e-16\n",
    "3.0 1.73205080757 1.73205080757 0.0\n",
    "4.0 2.0           2.0           0.0\n",
    "5.0 2.2360679775  2.2360679775  0.0\n",
    "6.0 2.44948974278 2.44948974278 0.0\n",
    "7.0 2.64575131106 2.64575131106 0.0\n",
    "8.0 2.82842712475 2.82842712475 4.4408920985e-16\n",
    "9.0 3.0           3.0           0.0\n",
    "```\n",
    "\n",
    "The first column is a number, `a`; the second column is the square root of a computed with the function from Section 7.5; the third column is the square root computed by `math.sqrt`; the fourth column is the absolute value of the difference between the two estimates."
   ]
  },
  {
   "cell_type": "code",
   "execution_count": 43,
   "metadata": {
    "collapsed": false
   },
   "outputs": [
    {
     "name": "stdout",
     "output_type": "stream",
     "text": [
      "n   My Root         Actual Root     Absolute Error\n",
      "=======================================================\n",
      "1.0 1.0             1.0             0.0            \n",
      "2.0 1.41421356237   1.41421356237   2.22044604925e-16\n",
      "3.0 1.73205080757   1.73205080757   0.0            \n",
      "4.0 2.0             2.0             0.0            \n",
      "5.0 2.2360679775    2.2360679775    0.0            \n",
      "6.0 2.44948974278   2.44948974278   0.0            \n",
      "7.0 2.64575131106   2.64575131106   0.0            \n",
      "8.0 2.82842712475   2.82842712475   4.4408920985e-16\n",
      "9.0 3.0             3.0             0.0            \n"
     ]
    }
   ],
   "source": [
    "import math\n",
    "def test_square_root(n):\n",
    "    print 'n  ', 'My Root'+' '*8, 'Actual Root'+ ' '*4, 'Absolute Error'\n",
    "    print '='*55\n",
    "    while n < 10:\n",
    "        x = squareroot(n,.0000000001)\n",
    "        y = math.sqrt(n)\n",
    "        z = abs(x-y)\n",
    "        print n, right_justify(x), right_justify(y), right_justify(z)\n",
    "        n = n + 1\n",
    "def right_justify(l):\n",
    "    c = len(str(l))\n",
    "    g = \" \"*(15-c)\n",
    "    string = str(l)+g\n",
    "    return string\n",
    "test_square_root(1.0)"
   ]
  },
  {
   "cell_type": "markdown",
   "metadata": {},
   "source": [
    "### Challenge: Exercise 5  (optional)\n",
    "The mathematician Srinivasa Ramanujan found an infinite series that can be used to generate a numerical approximation of\n",
    "$\\frac{1}{\\pi}$:\n",
    "\n",
    "$$\\frac{1}{\\pi} = \\frac{2 \\sqrt{2}}{9801} \\sum_{k=0}^{\\infty} \\frac{(4k)! (1103+26390k)}{(k!)^4 396^{4k}}$$\n",
    " \n",
    "Write a function called `estimate_pi` that uses this formula to compute and return an estimate of $\\pi$. It should use a `while` loop to compute terms of the summation until the last term is smaller than `1e-15` (which is Python notation for $10^{−15}$). You can check the result by comparing it to `math.pi`.\n",
    "\n",
    "[Possible solution](http://thinkpython.com/code/pi.py) (give the exercise a try before viewing the solution)"
   ]
  },
  {
   "cell_type": "code",
   "execution_count": 78,
   "metadata": {
    "collapsed": false
   },
   "outputs": [
    {
     "data": {
      "text/plain": [
       "3.141592653589793"
      ]
     },
     "execution_count": 78,
     "metadata": {},
     "output_type": "execute_result"
    }
   ],
   "source": [
    "def estimate_pi(epsilon):\n",
    "    k = 0\n",
    "    new = 0\n",
    "    tracker = 5\n",
    "    c = (2.0*math.sqrt(2.0))/9801.0\n",
    "    while tracker > epsilon:\n",
    "        old = new\n",
    "        x = (math.factorial(4*k)*(1103.0+26390.0*k))+ 0.0\n",
    "        y = ((math.factorial(k)**4.0)*(396.0**(4*k))) + 0.0\n",
    "        new = x/y\n",
    "        tracker = new\n",
    "        k = k + 1\n",
    "        new = new + old\n",
    "        \n",
    "    return 1/(new*c)\n",
    "estimate_pi(.0000000000000001)"
   ]
  },
  {
   "cell_type": "markdown",
   "metadata": {},
   "source": [
    "## Reading Journal feedback\n",
    "\n",
    "Have any comments on this Reading Journal? Feel free to leave them below and we'll read them when you submit your journal entry. This could include suggestions to improve the exercises, topics you'd like to see covered in class next time, or other feedback.\n",
    "\n",
    "If you have Python questions or run into problems while completing the reading, you should post them to Piazza instead so you can get a quick response before your journal is submitted."
   ]
  },
  {
   "cell_type": "markdown",
   "metadata": {},
   "source": [
    " "
   ]
  }
 ],
 "metadata": {
  "kernelspec": {
   "display_name": "Python 2",
   "language": "python",
   "name": "python2"
  },
  "language_info": {
   "codemirror_mode": {
    "name": "ipython",
    "version": 2
   },
   "file_extension": ".py",
   "mimetype": "text/x-python",
   "name": "python",
   "nbconvert_exporter": "python",
   "pygments_lexer": "ipython2",
   "version": "2.7.6"
  }
 },
 "nbformat": 4,
 "nbformat_minor": 0
}
